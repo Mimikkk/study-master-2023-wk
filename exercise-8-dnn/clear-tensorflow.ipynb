{
  "nbformat": 4,
  "nbformat_minor": 0,
  "metadata": {
    "colab": {
      "provenance": [],
      "collapsed_sections": [
        "pmmZh-IZ3o43"
      ],
      "toc_visible": true
    },
    "kernelspec": {
      "display_name": "Python 3",
      "name": "python3"
    }
  },
  "cells": [
    {
      "cell_type": "markdown",
      "metadata": {
        "id": "S_r0j8Xuqsga"
      },
      "source": [
        "# Widzenie komputerowe - Laboratoria nr 11"
      ]
    },
    {
      "cell_type": "markdown",
      "metadata": {
        "id": "qVWBS5p-r5j9"
      },
      "source": [
        "## Opis laboratoriów"
      ]
    },
    {
      "cell_type": "markdown",
      "metadata": {
        "id": "cd2FzMMMr9kr"
      },
      "source": [
        "Wprowadzenie do biblioteki TensorFlow oraz neuronowych modeli wizyjnych."
      ]
    },
    {
      "cell_type": "markdown",
      "metadata": {
        "id": "WMJXpBTXtET5"
      },
      "source": [
        "## Funkcje pomocnicze"
      ]
    },
    {
      "cell_type": "markdown",
      "metadata": {
        "id": "WfiyoH2V2Htn"
      },
      "source": [
        "### Niezbędne biblioteki\n"
      ]
    },
    {
      "cell_type": "code",
      "metadata": {
        "id": "XE5KwNqA3Ots"
      },
      "source": [
        "%matplotlib inline\n",
        "import matplotlib.pyplot as plt\n",
        "import tensorflow as tf\n",
        "import numpy as np\n",
        "import cv2\n",
        "import PIL\n",
        "\n",
        "from pprint import pprint"
      ],
      "execution_count": null,
      "outputs": []
    },
    {
      "cell_type": "markdown",
      "metadata": {
        "id": "pmmZh-IZ3o43"
      },
      "source": [
        "### Zbiory danych"
      ]
    },
    {
      "cell_type": "markdown",
      "metadata": {
        "id": "33K8aecMdVem"
      },
      "source": [
        "- MNIST - popularny zbiór danych przedstawiający obrazki o rozmiarze 28x28 zawierające odręczne pismo w postaci cyfr. Więcej informacji pod [linkiem](http://yann.lecun.com/exdb/mnist/)."
      ]
    },
    {
      "cell_type": "markdown",
      "metadata": {
        "id": "b3desh1dBMaw"
      },
      "source": [
        "### Wizualizacja\n",
        "\n"
      ]
    },
    {
      "cell_type": "markdown",
      "metadata": {
        "id": "W5MYAXSgem6O"
      },
      "source": [
        "Skrypt do wyżwietlania obrazów BGR oraz Grayscale."
      ]
    },
    {
      "cell_type": "code",
      "metadata": {
        "id": "VCHL_RVqunsJ"
      },
      "source": [
        "def imshow(a):\n",
        "  a = a.clip(0, 255).astype('uint8')\n",
        "  if a.ndim == 3:\n",
        "    if a.shape[2] == 4:\n",
        "      a = cv2.cvtColor(a, cv2.COLOR_BGRA2RGBA)\n",
        "    else:\n",
        "      a = cv2.cvtColor(a, cv2.COLOR_BGR2RGB)\n",
        "  display(PIL.Image.fromarray(a))"
      ],
      "execution_count": null,
      "outputs": []
    },
    {
      "cell_type": "markdown",
      "metadata": {
        "id": "PNVsm5gkl3-3"
      },
      "source": [
        "# TensorFlow"
      ]
    },
    {
      "cell_type": "markdown",
      "metadata": {
        "id": "AJo4VkFzlL0V"
      },
      "source": [
        "TensorFlow to jedna z wiodących bibliotek do uczenia maszynowego raz przetwarzania big data. Biblioteka wspierana i rozwijana jest przez zespół Google Brain. \n",
        "\n",
        "Architektura TensorFlow jest bardzo podobna do popularnej biblioteki NumPy, do tego stopnia, że niektóre podstawowe operacje działają analogicznie w obu z nich.\n",
        "\n",
        "Najczęstszym zastosowaniem TensorFlow są prace z sieciami neuronowymi zarówno w postaci badawczej jak i komercyjnej. Oprócz podstawowych operacji metematycznych potrzebnych do przetwarzania sieci neuronowych biblioteka TensorFlow zawiera szereg funkcjonalności pozwalających na wykorzystanie systemów opartych na TensorFlow w środowiskach produkcyjnych na różnych platformach - od urządzeń webowych przez wewnętrzne zastosowania klastrowe po urządzenia mobilne."
      ]
    },
    {
      "cell_type": "markdown",
      "metadata": {
        "id": "TOXQRqo-lV9O"
      },
      "source": [
        "## Wstęp do TensorFlow 2.0"
      ]
    },
    {
      "cell_type": "markdown",
      "metadata": {
        "id": "pZyiuUJqlZKQ"
      },
      "source": [
        "Wiele operacji w TensorFlow i NumPy wygląda bardzo podobnie, zaczynając od alokacji danych:"
      ]
    },
    {
      "cell_type": "code",
      "metadata": {
        "colab": {
          "base_uri": "https://localhost:8080/"
        },
        "id": "YJ0OFOFmqjQK",
        "outputId": "71f1cffc-5e06-426b-cb33-eed87f28e177"
      },
      "source": [
        "np_arr = np.zeros([5, 5])\n",
        "tf_arr = tf.zeros([5, 5])\n",
        "\n",
        "np_arr = np.ones([5, 5])\n",
        "tf_arr = tf.ones([5, 5])\n",
        "\n",
        "np_arr = np.array([1, 2, 3, 4, 5])\n",
        "tf_arr = tf.constant([1, 2, 3, 4, 5])\n",
        "\n",
        "np_arr = np.random.normal(0, 1, [5, 5])\n",
        "tf_arr = tf.random.normal([5, 5], 0, 1)\n",
        "\n",
        "print('NumPy array:\\n', np_arr, '\\n')\n",
        "print('Tensorflow array:\\n', tf_arr, '\\n')"
      ],
      "execution_count": null,
      "outputs": [
        {
          "output_type": "stream",
          "text": [
            "NumPy array:\n",
            " [[-0.94253299  2.01356778  0.09632248 -0.92100145 -0.13136741]\n",
            " [-0.6027478   1.0236821   0.72545776 -3.18740025 -1.70483719]\n",
            " [ 1.67678483  0.70567096  0.56537041 -1.44574219 -0.62472593]\n",
            " [-0.30040715 -1.31645101  0.85454476  1.39590927 -0.76326215]\n",
            " [-1.70703004  0.11390831 -0.02697127  0.8825468  -0.36952339]] \n",
            "\n",
            "Tensorflow array:\n",
            " tf.Tensor(\n",
            "[[ 0.904297   -1.2355479  -1.0459094   1.2265586   0.5153785 ]\n",
            " [-0.46957168  0.7162702   0.8307047  -1.8149093   0.03321667]\n",
            " [ 0.8896911   1.0176688  -0.32550395 -1.3368597   0.3659757 ]\n",
            " [ 0.04672508 -2.1104105   0.9189098  -0.63306147  0.06269299]\n",
            " [-1.1084383  -0.5523081  -0.3924524  -1.7805231   2.3831115 ]], shape=(5, 5), dtype=float32) \n",
            "\n"
          ],
          "name": "stdout"
        }
      ]
    },
    {
      "cell_type": "markdown",
      "metadata": {
        "id": "0RoI1AEDqlMA"
      },
      "source": [
        "przez operacje na danych:"
      ]
    },
    {
      "cell_type": "code",
      "metadata": {
        "colab": {
          "base_uri": "https://localhost:8080/"
        },
        "id": "rYhJNWNUqpQy",
        "outputId": "5a51ae1d-651d-4a23-ac56-a9f79f3e165a"
      },
      "source": [
        "np_a = np.ones([5, 5])\n",
        "tf_a = tf.ones([5, 5])\n",
        "\n",
        "np_a = np_a + np_a\n",
        "np_a = np_a * np_a\n",
        "np_a = np_a ** 2 + np_a ** 3\n",
        "\n",
        "tf_a = tf_a + tf_a\n",
        "tf_a = tf_a * tf_a\n",
        "tf_a = tf_a ** 2 + tf_a ** 3\n",
        "\n",
        "print('NumPy array:\\n', np.sqrt(np_a), '\\n')\n",
        "print('Tensorflow array:\\n', tf.sqrt(tf_a), '\\n')"
      ],
      "execution_count": null,
      "outputs": [
        {
          "output_type": "stream",
          "text": [
            "NumPy array:\n",
            " [[8.94427191 8.94427191 8.94427191 8.94427191 8.94427191]\n",
            " [8.94427191 8.94427191 8.94427191 8.94427191 8.94427191]\n",
            " [8.94427191 8.94427191 8.94427191 8.94427191 8.94427191]\n",
            " [8.94427191 8.94427191 8.94427191 8.94427191 8.94427191]\n",
            " [8.94427191 8.94427191 8.94427191 8.94427191 8.94427191]] \n",
            "\n",
            "Tensorflow array:\n",
            " tf.Tensor(\n",
            "[[8.944272 8.944272 8.944272 8.944272 8.944272]\n",
            " [8.944272 8.944272 8.944272 8.944272 8.944272]\n",
            " [8.944272 8.944272 8.944272 8.944272 8.944272]\n",
            " [8.944272 8.944272 8.944272 8.944272 8.944272]\n",
            " [8.944272 8.944272 8.944272 8.944272 8.944272]], shape=(5, 5), dtype=float32) \n",
            "\n"
          ],
          "name": "stdout"
        }
      ]
    },
    {
      "cell_type": "markdown",
      "metadata": {
        "id": "SzW5f_zvstsZ"
      },
      "source": [
        "TensorFlow zawiera implementacje funkcji redukcji wymiarowości, m.in. suma, średnia, minimum, maximum."
      ]
    },
    {
      "cell_type": "code",
      "metadata": {
        "colab": {
          "base_uri": "https://localhost:8080/"
        },
        "id": "vZ6OgEFss40E",
        "outputId": "092e075a-5e2f-4eae-d655-1a885c9612e6"
      },
      "source": [
        "print('TensorFlow sum:', tf.reduce_sum(tf_a))\n",
        "print('TensorFlow mean:', tf.reduce_mean(tf_a))\n",
        "print('TensorFlow min:', tf.reduce_min(tf_a))\n",
        "print('TensorFlow max:', tf.reduce_max(tf_a))\n",
        "\n",
        "print('TensorFlow sum:', np_a.sum())\n",
        "print('TensorFlow mean:', np_a.mean())\n",
        "print('TensorFlow min:', np_a.min())\n",
        "print('TensorFlow max:', np_a.max())"
      ],
      "execution_count": null,
      "outputs": [
        {
          "output_type": "stream",
          "text": [
            "TensorFlow sum: tf.Tensor(2000.0, shape=(), dtype=float32)\n",
            "TensorFlow mean: tf.Tensor(80.0, shape=(), dtype=float32)\n",
            "TensorFlow min: tf.Tensor(80.0, shape=(), dtype=float32)\n",
            "TensorFlow max: tf.Tensor(80.0, shape=(), dtype=float32)\n",
            "TensorFlow sum: 2000.0\n",
            "TensorFlow mean: 80.0\n",
            "TensorFlow min: 80.0\n",
            "TensorFlow max: 80.0\n"
          ],
          "name": "stdout"
        }
      ]
    },
    {
      "cell_type": "markdown",
      "metadata": {
        "id": "3l7XlqCAtWuJ"
      },
      "source": [
        "Analogicznie do NumPy, redukcję można wykonać względem ustalonych wymiarów:"
      ]
    },
    {
      "cell_type": "code",
      "metadata": {
        "colab": {
          "base_uri": "https://localhost:8080/"
        },
        "id": "Lb0L9t11tWJ2",
        "outputId": "9a26e593-fe9a-4856-9216-ed05190453be"
      },
      "source": [
        "print('TensorFlow sum:', tf.reduce_sum(tf_a, 0))\n",
        "print('TensorFlow mean:', tf.reduce_mean(tf_a, 1))\n",
        "print('TensorFlow min:', tf.reduce_min(tf_a, 0))\n",
        "print('TensorFlow max:', tf.reduce_max(tf_a, 1))\n",
        "\n",
        "print('TensorFlow sum:', np_a.sum(0))\n",
        "print('TensorFlow mean:', np_a.mean(1))\n",
        "print('TensorFlow min:', np_a.min(0))\n",
        "print('TensorFlow max:', np_a.max(1))"
      ],
      "execution_count": null,
      "outputs": [
        {
          "output_type": "stream",
          "text": [
            "TensorFlow sum: tf.Tensor([400. 400. 400. 400. 400.], shape=(5,), dtype=float32)\n",
            "TensorFlow mean: tf.Tensor([80. 80. 80. 80. 80.], shape=(5,), dtype=float32)\n",
            "TensorFlow min: tf.Tensor([80. 80. 80. 80. 80.], shape=(5,), dtype=float32)\n",
            "TensorFlow max: tf.Tensor([80. 80. 80. 80. 80.], shape=(5,), dtype=float32)\n",
            "TensorFlow sum: [400. 400. 400. 400. 400.]\n",
            "TensorFlow mean: [80. 80. 80. 80. 80.]\n",
            "TensorFlow min: [80. 80. 80. 80. 80.]\n",
            "TensorFlow max: [80. 80. 80. 80. 80.]\n"
          ],
          "name": "stdout"
        }
      ]
    },
    {
      "cell_type": "markdown",
      "metadata": {
        "id": "FbxeBF5pumux"
      },
      "source": [
        "### Zmienne"
      ]
    },
    {
      "cell_type": "markdown",
      "metadata": {
        "id": "5zPvYZe0uzyk"
      },
      "source": [
        "Ważnym elementem biblioteki TensorFlow są **zmienne**, czyli obiekty, które przechowują pewną wartość i mogą być uaktualniane. Pozostałe wyniki operacji w TensorFlow to **Tensory**."
      ]
    },
    {
      "cell_type": "code",
      "metadata": {
        "colab": {
          "base_uri": "https://localhost:8080/"
        },
        "id": "oFu7WdxYu-56",
        "outputId": "e9c0ea2a-2956-4f87-f1a8-8d099a2b6e4f"
      },
      "source": [
        "# inicjalizacja zmiennej z losowymi wartościami\n",
        "b = tf.Variable(tf.random.uniform([5]))\n",
        "\n",
        "print(b.numpy())\n",
        "\n",
        "# wykonanie operacji dodawania na zmiennej\n",
        "b.assign_add([1, 0, 0, 1, 0])\n",
        "\n",
        "print(b.numpy())\n",
        "\n",
        "# wykonanie operacji odejmowania na zmiennej\n",
        "b.assign_sub([1, 0, 0, 1, 0])\n",
        "\n",
        "print(b.numpy())\n",
        "\n",
        "# wykonanie operacji przypisania na zmiennej\n",
        "b.assign([1, 2, 3, 4, 5])\n",
        "\n",
        "print(b.numpy())"
      ],
      "execution_count": null,
      "outputs": [
        {
          "output_type": "stream",
          "text": [
            "[0.43524122 0.47396982 0.9328871  0.9637741  0.69657457]\n",
            "[1.4352412  0.47396982 0.9328871  1.9637741  0.69657457]\n",
            "[0.43524122 0.47396982 0.9328871  0.9637741  0.69657457]\n",
            "[1. 2. 3. 4. 5.]\n"
          ],
          "name": "stdout"
        }
      ]
    },
    {
      "cell_type": "markdown",
      "metadata": {
        "id": "PxnkivWhvCSH"
      },
      "source": [
        "Istnienie zmiennych w TensorFlow jest bardzo ważne ze względu na automatyczne uaktualnianie zmiannych w kontekście uczenia sieci neuronowych."
      ]
    },
    {
      "cell_type": "markdown",
      "metadata": {
        "id": "SvCRcHUvlddR"
      },
      "source": [
        "## Podstawowe operacje neuronowe"
      ]
    },
    {
      "cell_type": "markdown",
      "metadata": {
        "id": "f3iiIeq9vhWj"
      },
      "source": [
        "Jedną z podstawowych operacji neuronowych jest warstwa **w pełni połączona**, czyli warstwa składająca się z **neuronów**. Każdy neuron wykonuje operację **kombinacji liniowej** z następującą **funkcją aktywacji**:\n",
        "\n",
        "$$z_j = \\sum x_i * w_{ij} + b_j$$\n",
        "$$y_j = f(z_j)$$\n",
        "\n",
        "lub innymi słowy, neuron pobiera wektor danych wejściowych, przemnaża go przez wektor **zmiennych uczonych**, sumuje, dodaje wyraz wolny (funkcja liniowa) oraz aplikuje pewną funkcję aktywacji.\n"
      ]
    },
    {
      "cell_type": "code",
      "metadata": {
        "colab": {
          "base_uri": "https://localhost:8080/"
        },
        "id": "aOXubibDw7mr",
        "outputId": "ed20907b-9795-4bff-9e92-aebc2e931362"
      },
      "source": [
        "w = tf.Variable(tf.random.uniform([10, 5], dtype=tf.float32))\n",
        "b = tf.Variable(tf.random.uniform([5], dtype=tf.float32))\n",
        "\n",
        "print(f'w: {w}\\nb: {b}')"
      ],
      "execution_count": null,
      "outputs": [
        {
          "output_type": "stream",
          "text": [
            "w: <tf.Variable 'Variable:0' shape=(10, 5) dtype=float32, numpy=\n",
            "array([[0.17003942, 0.99568295, 0.02857387, 0.9010258 , 0.21278214],\n",
            "       [0.8329736 , 0.17403162, 0.39273942, 0.7289101 , 0.7934346 ],\n",
            "       [0.8177619 , 0.4656546 , 0.16230392, 0.27320886, 0.01186037],\n",
            "       [0.2851653 , 0.41072845, 0.4749266 , 0.8874247 , 0.0054487 ],\n",
            "       [0.75829494, 0.6500417 , 0.20769334, 0.48381662, 0.5169252 ],\n",
            "       [0.5645937 , 0.18502581, 0.24361014, 0.99305713, 0.97824407],\n",
            "       [0.2850157 , 0.06254983, 0.48600864, 0.53499675, 0.265764  ],\n",
            "       [0.6733161 , 0.3261243 , 0.05823684, 0.60212016, 0.7604134 ],\n",
            "       [0.35804784, 0.3912568 , 0.3741343 , 0.7259127 , 0.5005919 ],\n",
            "       [0.588359  , 0.47600293, 0.57891774, 0.18471885, 0.4728248 ]],\n",
            "      dtype=float32)>\n",
            "b: <tf.Variable 'Variable:0' shape=(5,) dtype=float32, numpy=\n",
            "array([0.5278983, 0.4271971, 0.9222144, 0.8509704, 0.6624371],\n",
            "      dtype=float32)>\n"
          ],
          "name": "stdout"
        }
      ]
    },
    {
      "cell_type": "code",
      "metadata": {
        "id": "adC3DrJjxOAm"
      },
      "source": [
        "def neuron(x, f=tf.identity):\n",
        "  return f(x @ w + b)"
      ],
      "execution_count": null,
      "outputs": []
    },
    {
      "cell_type": "code",
      "metadata": {
        "colab": {
          "base_uri": "https://localhost:8080/"
        },
        "id": "yiAOEv2Axpu5",
        "outputId": "4f427f9d-ebc4-4792-b9f2-ca8294a5cf84"
      },
      "source": [
        "x = tf.random.normal([1, 10])\n",
        "y = neuron(x)\n",
        "\n",
        "print(f'x{x.shape}: {x}\\ny{y.shape}: {y}')"
      ],
      "execution_count": null,
      "outputs": [
        {
          "output_type": "stream",
          "text": [
            "x(1, 10): [[ 0.37501562 -0.13595057 -0.6333114   0.8440328  -0.5287028  -0.98986596\n",
            "  -1.2336979  -0.82561827  0.17942771  0.17623276]]\n",
            "y(1, 5): [[-1.4981647   0.10953623  0.34813726 -0.56736934 -1.3927132 ]]\n"
          ],
          "name": "stdout"
        }
      ]
    },
    {
      "cell_type": "markdown",
      "metadata": {
        "id": "uhTIx70pyD7Y"
      },
      "source": [
        "Jak widać na powyższym przykładzie operację kombinacji liniowej dla wielu wektorów (tzn. przetwarzanie można zoptymalizować wykonując operacje neuronu na wielu przykładach na raz) można zrealizować jako mnożenie macierzy."
      ]
    },
    {
      "cell_type": "code",
      "metadata": {
        "colab": {
          "base_uri": "https://localhost:8080/"
        },
        "id": "g9NZGPPby7_h",
        "outputId": "e99e1768-201e-4870-8559-0be260b4f882"
      },
      "source": [
        "x = tf.random.normal([5, 10])\n",
        "y = neuron(x)\n",
        "\n",
        "print(f'x{x.shape}: {x}\\ny{y.shape}: {y}')"
      ],
      "execution_count": null,
      "outputs": [
        {
          "output_type": "stream",
          "text": [
            "x(5, 10): [[ 1.1309357  -1.2599107  -0.09468102 -0.04039091 -0.5460529   0.08831213\n",
            "  -0.93133676  0.5818134   0.08456084  1.7632313 ]\n",
            " [-0.22279486 -0.7523849  -0.5195086  -0.15190043 -0.8695138  -0.21128729\n",
            "   0.6861161  -0.93115586  0.8244947  -0.8840288 ]\n",
            " [-1.0114874   1.5669104  -1.0234475   1.5982198  -0.7929202   1.0175995\n",
            "   1.3526465   0.89628017  2.702125   -0.05405622]\n",
            " [ 0.6713353   1.2775375   0.19831286 -0.10202512  1.1789451   1.4768529\n",
            "   0.5227609  -0.20160168 -0.6178037  -0.97023994]\n",
            " [ 0.2902063   0.07162773 -0.8058708   1.054702   -0.71004057  1.0451744\n",
            "   0.04281199  0.8231544   0.40653422 -0.01771817]]\n",
            "y(5, 5): [[ 0.4115649   1.9385675   0.9669136   0.95255417  0.7771354 ]\n",
            " [-2.039819   -1.1931572   0.30775583 -0.5638182  -1.1760652 ]\n",
            " [ 3.1778746   0.95388097  3.8740983   6.062174    4.6407323 ]\n",
            " [ 2.7882957   1.6714206   1.4809994   3.9182982   3.0924826 ]\n",
            " [ 1.0319209   0.940137    1.6464782   3.3852277   2.2650518 ]]\n"
          ],
          "name": "stdout"
        }
      ]
    },
    {
      "cell_type": "markdown",
      "metadata": {
        "id": "chhTjiKNzDNJ"
      },
      "source": [
        "Powyższa implementacja neuronu wykorzystuje funkcję aktywacji **identity**, czyli brak modyfikacji, a więc jest to funkcja liniowa. Do innych funkcji aktywacji można zaliczyć:\n",
        "- relu - jedna z ważniejszych operacji ze względu na jej prostą pochodną.,\n",
        "- sigmoid - jedna z pierwszych aplikowanych funkcji aktywacji w neuronach,\n",
        "- tangens hiperboliczny - najczęściej wykorzystywana w sieciach rekurencyjnych,\n",
        "- elu, selu, relu6, itp. - różne modyfikacje funkcji relu.\n"
      ]
    },
    {
      "cell_type": "code",
      "metadata": {
        "colab": {
          "base_uri": "https://localhost:8080/",
          "height": 621
        },
        "id": "DiTcMBpg0kBX",
        "outputId": "f9ed87bc-9f08-483c-df7b-9d519d1760a3"
      },
      "source": [
        "x = tf.range(-5, 8, 0.1, tf.float32)\n",
        "\n",
        "plt.figure(figsize=(15, 10))\n",
        "plt.title('Funkcje aktywacji')\n",
        "plt.xlabel('x')\n",
        "plt.ylabel('y')\n",
        "plt.plot(x, tf.nn.relu(x), label='relu')\n",
        "plt.plot(x, tf.nn.relu6(x), label='relu6')\n",
        "plt.plot(x, tf.nn.leaky_relu(x), label='leaky relu')\n",
        "plt.plot(x, tf.nn.elu(x), label='elu')\n",
        "plt.plot(x, tf.nn.selu(x), label='selu')\n",
        "plt.grid()\n",
        "plt.legend()\n",
        "plt.show()"
      ],
      "execution_count": null,
      "outputs": [
        {
          "output_type": "display_data",
          "data": {
            "image/png": "[encoded data removed]",
            "text/plain": [
              "<Figure size 1080x720 with 1 Axes>"
            ]
          },
          "metadata": {
            "tags": [],
            "needs_background": "light"
          }
        }
      ]
    },
    {
      "cell_type": "code",
      "metadata": {
        "colab": {
          "base_uri": "https://localhost:8080/",
          "height": 621
        },
        "id": "PyZfi7D32Ljv",
        "outputId": "0b478559-3579-4982-99d3-89ee9272f9d0"
      },
      "source": [
        "x = tf.range(-3, 3, 0.1, tf.float32)\n",
        "plt.figure(figsize=(15, 10))\n",
        "plt.title('Funkcje aktywacji')\n",
        "plt.xlabel('x')\n",
        "plt.ylabel('y')\n",
        "plt.plot(x, tf.nn.sigmoid(x), label='sigmoid')\n",
        "plt.plot(x, tf.nn.tanh(x), label='tanh')\n",
        "plt.grid()\n",
        "plt.legend()\n",
        "plt.show()"
      ],
      "execution_count": null,
      "outputs": [
        {
          "output_type": "display_data",
          "data": {
            "image/png": "[encoded data removed]",
            "text/plain": [
              "<Figure size 1080x720 with 1 Axes>"
            ]
          },
          "metadata": {
            "tags": [],
            "needs_background": "light"
          }
        }
      ]
    },
    {
      "cell_type": "code",
      "metadata": {
        "colab": {
          "base_uri": "https://localhost:8080/"
        },
        "id": "EsKi-Xa90ab9",
        "outputId": "3e9d73f8-243d-4a17-e37c-55cd9a47f0f5"
      },
      "source": [
        "x = tf.random.normal([5, 10])\n",
        "y = neuron(x, tf.nn.relu)\n",
        "\n",
        "print(f'x{x.shape}: {x}\\ny{y.shape}: {y}')"
      ],
      "execution_count": null,
      "outputs": [
        {
          "output_type": "stream",
          "text": [
            "x(5, 10): [[ 0.46218073  0.16281448 -0.48709533  0.76968324  0.58793026 -0.5973248\n",
            "   1.1582193   1.1308368  -0.16892987 -0.04694295]\n",
            " [-0.13343762  0.2798538  -1.091322    2.0339437  -0.8713089   1.3090035\n",
            "  -0.35957608 -0.6075525   0.70801437 -0.8887071 ]\n",
            " [ 0.5553598   0.7902553  -1.4301001  -0.87023187 -0.97652376 -0.12988815\n",
            "   0.2144414  -0.19759044  0.47278637 -0.34375706]\n",
            " [-1.1568048  -0.70059425 -0.9724697  -0.30257154 -0.6068995   1.3571516\n",
            "   0.71115035  0.19876437 -0.56454515  0.3010123 ]\n",
            " [ 0.06351107 -1.8286338  -0.93116367  1.6179814   1.0757387  -0.97671443\n",
            "  -0.9183721   0.16268882 -1.0397979   0.12946552]]\n",
            "y(5, 5): [[1.6752622  1.6294886  1.8008271  2.796558   1.6689225 ]\n",
            " [0.         0.         1.4953458  3.1115065  1.0610218 ]\n",
            " [0.         0.         0.4391728  0.4384183  0.734945  ]\n",
            " [0.         0.         0.8372873  0.         1.060996  ]\n",
            " [0.         0.57211256 0.05769324 0.         0.        ]]\n"
          ],
          "name": "stdout"
        }
      ]
    },
    {
      "cell_type": "code",
      "metadata": {
        "colab": {
          "base_uri": "https://localhost:8080/"
        },
        "id": "P0ZY3XET2gbV",
        "outputId": "38ccc169-025c-4e6c-e2cf-314b181ccdb9"
      },
      "source": [
        "x = tf.random.normal([5, 10])\n",
        "y = neuron(x, tf.nn.tanh)\n",
        "\n",
        "print(f'x{x.shape}: {x}\\ny{y.shape}: {y}')"
      ],
      "execution_count": null,
      "outputs": [
        {
          "output_type": "stream",
          "text": [
            "x(5, 10): [[-0.91975754  0.26567703 -1.5225166  -1.1868745   0.28818774  0.6124332\n",
            "   0.0684213   1.9632666   0.76488334 -0.16297245]\n",
            " [ 0.04606868 -0.9088952   1.3589153   1.5200626  -0.70943993 -0.39534602\n",
            "  -0.17844813 -1.0025333   0.45275447 -1.4369949 ]\n",
            " [-1.1034439  -0.03994056 -2.2760856  -0.67474866  0.7114679   0.878852\n",
            "  -0.5829868   0.5102687  -0.5767512   0.12361837]\n",
            " [ 0.14544207  0.4519881  -0.24547473 -0.05773921  0.35916728  0.46730387\n",
            "  -1.0928673  -1.5274053  -0.7208845  -0.9256435 ]\n",
            " [ 0.89743257 -0.29929626 -1.708209   -0.821516   -0.6560053   1.0508345\n",
            "  -2.2496123  -0.14374799 -0.34485802 -0.63620615]]\n",
            "y(5, 5): [[ 0.797963   -0.43974483  0.62790215  0.844926    0.99679947]\n",
            " [-0.6895167   0.19036019  0.42826363  0.5215385  -0.9667831 ]\n",
            " [-0.58325064 -0.89109504  0.14805517 -0.5201377   0.9210036 ]\n",
            " [-0.7136206  -0.4272729  -0.19796747 -0.35192862 -0.5071304 ]\n",
            " [-0.9816086  -0.6178642  -0.86588275 -0.5954731   0.09910605]]\n"
          ],
          "name": "stdout"
        }
      ]
    },
    {
      "cell_type": "markdown",
      "metadata": {
        "id": "2fdOAlTX9lik"
      },
      "source": [
        "Funkcje aktywacji mogą być również zaimplementowane z wykorzystaniem **Keras API**:"
      ]
    },
    {
      "cell_type": "code",
      "metadata": {
        "colab": {
          "base_uri": "https://localhost:8080/"
        },
        "id": "2D4bsZpn9ygx",
        "outputId": "0a505ce1-d678-45f0-c281-326e93a924c3"
      },
      "source": [
        "x = tf.random.normal([5, 10])\n",
        "y = neuron(x, tf.keras.layers.Activation('relu'))\n",
        "\n",
        "print(f'x{x.shape}: {x}\\ny{y.shape}: {y}')"
      ],
      "execution_count": null,
      "outputs": [
        {
          "output_type": "stream",
          "text": [
            "x(5, 10): [[ 6.7427021e-01  8.7996349e-02 -1.2741052e+00  9.3449849e-01\n",
            "   5.5626817e-02  9.9890441e-02 -6.3160676e-01 -2.5327569e-01\n",
            "   2.0813904e+00  1.3587147e-01]\n",
            " [ 1.1318717e+00  8.4256130e-01  8.2201654e-01 -4.1052470e-01\n",
            "   7.6852554e-01  5.5084977e-04 -8.0023003e-01  4.7765368e-01\n",
            "   7.3692966e-01 -2.1335207e-01]\n",
            " [ 6.7407835e-01 -1.5421171e+00 -3.1623164e-01 -5.8972567e-01\n",
            "   7.0836532e-01  5.3810704e-01 -6.6381723e-01  2.5145558e-01\n",
            "  -9.7696923e-02  9.4686076e-02]\n",
            " [-1.8656564e+00 -2.0093656e-01  1.0941570e+00 -1.6840550e+00\n",
            "  -4.2268377e-02 -1.9009569e-01 -1.3420181e-01  2.3033492e-01\n",
            "   1.2102505e+00  7.8815711e-01]\n",
            " [-1.1549485e+00 -2.5192842e-01  8.6807960e-01 -1.7364535e-01\n",
            "  -7.3866820e-01 -5.7249135e-01 -6.2557805e-01  1.2323414e+00\n",
            "   1.0052860e-01 -1.5462530e+00]]\n",
            "y(5, 5): [[0.51362646 1.715972   1.7846158  3.1755528  1.7378997 ]\n",
            " [2.7922812  2.7071447  1.1747583  3.0726333  2.3956828 ]\n",
            " [0.         1.0478776  0.         0.3444605  0.4785629 ]\n",
            " [1.3323209  0.         0.96995014 0.         1.0200058 ]\n",
            " [0.         0.         0.         0.         0.        ]]\n"
          ],
          "name": "stdout"
        }
      ]
    },
    {
      "cell_type": "code",
      "metadata": {
        "colab": {
          "base_uri": "https://localhost:8080/"
        },
        "id": "mRlv8V6F91jV",
        "outputId": "e4d93dcd-5270-4771-b73b-4f7d04689260"
      },
      "source": [
        "x = tf.random.normal([5, 10])\n",
        "y = neuron(x, tf.keras.layers.Activation('tanh'))\n",
        "\n",
        "print(f'x{x.shape}: {x}\\ny{y.shape}: {y}')"
      ],
      "execution_count": null,
      "outputs": [
        {
          "output_type": "stream",
          "text": [
            "x(5, 10): [[-0.2509155   0.99914515 -0.15299962  0.9164032   0.09811705 -0.8840432\n",
            "   0.81757474  1.0392734  -1.1535335   0.36926886]\n",
            " [ 0.3551898   1.2525055  -0.03920637 -0.9487198  -0.75897926  0.7542384\n",
            "  -0.27145356  1.720347   -0.386795    0.21000949]\n",
            " [ 0.01691772 -1.1376184  -0.2388163  -0.2996403   0.34179223 -1.1948315\n",
            "  -0.3311269  -2.2608306   0.25409794 -0.35239312]\n",
            " [ 1.264805   -0.06042849 -0.2507748  -0.03462184 -0.4252831   0.28827494\n",
            "  -1.1731025   0.9523134  -0.69526935  0.5708659 ]\n",
            " [ 0.3211044   0.4422247  -1.7001574  -0.78630835 -0.392336   -2.4124358\n",
            "   0.23785444 -0.8245534   0.70883507  0.559607  ]]\n",
            "y(5, 5): [[ 0.9431698   0.58571726  0.9428292   0.91987175  0.83230764]\n",
            " [ 0.9778227   0.62293583  0.7345624   0.9785322   0.99676967]\n",
            " [-0.99327666 -0.67149365 -0.31562176 -0.99160314 -0.99578273]\n",
            " [ 0.6117672   0.91522866  0.39275885  0.9004073   0.8556505 ]\n",
            " [-0.9770304  -0.6059426   0.41633815 -0.9665152  -0.895678  ]]\n"
          ],
          "name": "stdout"
        }
      ]
    },
    {
      "cell_type": "markdown",
      "metadata": {
        "id": "KRpHCqyz-Kwb"
      },
      "source": [
        "Analogicznie, operacja neuronu jest zaimplementowana w **Keras API**.\n",
        "\n",
        "**Uwaga:** podczas pierwszego wywołania neuronu w zaalokowane zostaną wewnątrzne zmienne uczące się."
      ]
    },
    {
      "cell_type": "code",
      "metadata": {
        "id": "wVJ3vqAB-UKy"
      },
      "source": [
        "neurons = tf.keras.layers.Dense(5, activation='relu')"
      ],
      "execution_count": null,
      "outputs": []
    },
    {
      "cell_type": "code",
      "metadata": {
        "colab": {
          "base_uri": "https://localhost:8080/"
        },
        "id": "y0QpcG-X-YVJ",
        "outputId": "95a82ec8-57a9-4f5b-e723-4dce9aef6e6f"
      },
      "source": [
        "x = tf.random.normal([5, 10])\n",
        "y = neurons(x)\n",
        "\n",
        "print(f'x{x.shape}: {x}\\ny{y.shape}: {y}')\n",
        "print('\\n\\nZmienne wewnętrzne:\\n', neurons.trainable_variables)"
      ],
      "execution_count": null,
      "outputs": [
        {
          "output_type": "stream",
          "text": [
            "x(5, 10): [[-1.0805374   1.0206314   0.05198675 -0.21289727 -0.01851472 -0.19038938\n",
            "  -0.77847224 -0.9356636  -1.2232659   0.11316086]\n",
            " [-1.0491174  -0.19502138  1.1331863  -0.5877475  -1.3300604   1.9252828\n",
            "  -1.3632364  -0.68979466  0.27919894  2.2948046 ]\n",
            " [-0.09131771  1.2707394   1.1030567  -2.6680267   1.0893352   0.8989579\n",
            "   1.1816685  -0.4180434  -0.01765772  1.5271926 ]\n",
            " [-2.3744738  -1.6183417  -2.1886492   1.5088726  -0.2924248   0.5872143\n",
            "   0.8245113   0.09601685 -0.19299874 -2.2986093 ]\n",
            " [-1.1500314   0.39041713  2.753642    0.4428214  -0.32556158  2.0591896\n",
            "  -1.5717707   0.9493372   0.39299968 -0.54938036]]\n",
            "y(5, 5): [[0.         0.         0.         0.         0.8578953 ]\n",
            " [0.         0.         0.         0.98788816 0.8351689 ]\n",
            " [0.         0.         2.5888355  0.         0.        ]\n",
            " [1.2153339  0.         0.         0.         0.        ]\n",
            " [0.         0.         0.         1.1215342  0.72884226]]\n",
            "\n",
            "\n",
            "Zmienne wewnętrzne:\n",
            " [<tf.Variable 'dense/kernel:0' shape=(10, 5) dtype=float32, numpy=\n",
            "array([[ 0.23106384,  0.6096212 ,  0.5054837 , -0.19528702,  0.13693148],\n",
            "       [-0.57376   ,  0.14117527,  0.55454046,  0.02142096, -0.01857871],\n",
            "       [-0.07032293,  0.47594517, -0.3930239 , -0.03856915,  0.2950434 ],\n",
            "       [ 0.4709323 ,  0.39567238, -0.36979198, -0.14468113, -0.38955742],\n",
            "       [ 0.47667116, -0.03390598,  0.5784667 , -0.45286822, -0.49879768],\n",
            "       [-0.16378748, -0.5709545 , -0.52049595, -0.12699628, -0.21375477],\n",
            "       [ 0.5136935 ,  0.53221387,  0.5140224 , -0.32114017, -0.45751494],\n",
            "       [-0.63008875,  0.57948154, -0.09345597,  0.48545963, -0.21545973],\n",
            "       [ 0.5217163 , -0.07344395,  0.5602464 ,  0.5992519 , -0.28216285],\n",
            "       [ 0.02428746, -0.1050694 ,  0.37874144,  0.05132699, -0.2324968 ]],\n",
            "      dtype=float32)>, <tf.Variable 'dense/bias:0' shape=(5,) dtype=float32, numpy=array([0., 0., 0., 0., 0.], dtype=float32)>]\n"
          ],
          "name": "stdout"
        }
      ]
    },
    {
      "cell_type": "markdown",
      "metadata": {
        "id": "NjsDVCL62n7-"
      },
      "source": [
        "Operując biblioteką TensorFlow w kontekście Widzenia Komputerowego, można zauważyć, że posiada ona wiele operacji poznanych wcześniej w ramach klasycznego przetwarzania obrazów. Są to m.in. konwolucja oraz pooling.\n",
        "\n",
        "**Uwaga:** formalnie, konwolucja jest operacją ''przemnożenia'' **odwróconym** filtrem danych wejściowych. ''Przemnożenie'' **nieodwróconym** filtrem nazywa się operacją **koralacji**. Ze względu na fakt, że w przetwarzaniu neuronowym filtrem są zmienne uczące się, nie ma znaczenia czy odwrócimy czy nie filtr. Dlatego w celach optymalizacyjnych implementacja konwolucji w TensorFlow jest formalnie operacją korelacji.\n",
        "\n",
        "Poniżej zaprezentowana została implementacja konwolucji w kontekście laboratoriów dotyczących operacji splotowych.\n",
        "\n",
        "Dla podanych tablic **f** i **g** wykonaj operację konwolucji. Zastosuj uzupełnienie zerami, przesunięcie jednostkowe oraz rozszerzenie równe 1.\n",
        "\n",
        "$f = [1, 2, 3]$  \n",
        "$g = [1, 0, 1]$\n",
        "\n",
        "**1. Uzupełnienie:**\n",
        "\n",
        "$f = [0, 1, 2, 3, 0]$\n",
        "\n",
        "**2. Wykonanie konwolucji:**\n",
        "\n",
        "Konwolucja zostanie wykonana dla $t \\in <0, 1, 2>$\n",
        "\n",
        "$(f \\ast g)(0) = 0 * 1 + 1 * 0 + 2 * 1 = 2$  \n",
        "$(f \\ast g)(1) = 1 * 1 + 2 * 0 + 3 * 1 = 4$  \n",
        "$(f \\ast g)(2) = 2 * 1 + 3 * 0 + 0 * 1 = 2$  \n",
        "\n",
        "$f \\ast g = [2, 4, 2]$"
      ]
    },
    {
      "cell_type": "code",
      "metadata": {
        "colab": {
          "base_uri": "https://localhost:8080/"
        },
        "id": "LGHhoDCe4AZq",
        "outputId": "142eaa4a-8d4e-4c79-f063-e53f15ffbbe2"
      },
      "source": [
        "a = tf.constant([1, 2, 3])[tf.newaxis, :, tf.newaxis]\n",
        "f = tf.constant([1, 0, 1])[:, tf.newaxis, tf.newaxis]\n",
        "\n",
        "y = tf.nn.conv1d(a, f, 1, 'SAME')\n",
        "\n",
        "print(f'a: {a[0, :, 0]}')\n",
        "print(f'f: {f[:, 0, 0]}')\n",
        "print(f'y: {y[0, :, 0]}')"
      ],
      "execution_count": null,
      "outputs": [
        {
          "output_type": "stream",
          "text": [
            "a: [1 2 3]\n",
            "f: [1 0 1]\n",
            "y: [2 4 2]\n"
          ],
          "name": "stdout"
        }
      ]
    },
    {
      "cell_type": "markdown",
      "metadata": {
        "id": "i_vvxLPE5O39"
      },
      "source": [
        "TensorFlow zawiera gotową implementację warstwy konwolucyjnej zawierającą również zarządzanie zmiennymi uczącymi. Domyślną konfiguracją biblioteki TensorFlow jest wspieranie **wielu operacji na raz**, np. zamiast wykonując konwolucję jednego filtru, może być ich wykonanych N.\n",
        "\n",
        "Dla poniższego przykładu danymi wejściowymi jest tensor 4 wymiarowy **(pierwszy wymiar zazwyczaj traktowany jest jako liczna równoległych przykładów przetwarzanych na raz)**, który może oznaczać np. 3 obrazy o rozmiarze 128x128, 3 kanałach (float).\n",
        "\n",
        "Pojedynczą operacją konwolucji byłoby stworzenie filtru np. 5x5 który obsługuje dane wejściowe 3-wymiarowe. Czyli pojedynczy filtr miałby rozmiar \\[5, 5, 3\\]. Efektem wykonania konwolucji na obrazach wejściowych byłby **batch** obrazów o rozmiarze \\[3, 128, 128, 1\\] (ponieważ każdy filtr produkuje jedną wartość.\n",
        "\n",
        "Jeśli wykonamy N takich niezależnych filtrów, otrzymamy tensor \\[3, 128, 128, N\\]."
      ]
    },
    {
      "cell_type": "code",
      "metadata": {
        "id": "ju-hP5tu5YoZ"
      },
      "source": [
        "N = 10\n",
        "kernel_size = (5, 5)\n",
        "\n",
        "conv1 = tf.keras.layers.Conv2D(N, kernel_size, 1, 'same')"
      ],
      "execution_count": null,
      "outputs": []
    },
    {
      "cell_type": "code",
      "metadata": {
        "colab": {
          "base_uri": "https://localhost:8080/"
        },
        "id": "JTkHXsRj7Zdc",
        "outputId": "a249fc10-a8ca-4460-c402-fe122d371758"
      },
      "source": [
        "images = tf.ones([1, 128, 128, 3], tf.float32)\n",
        "images_filtered = conv1(images)\n",
        "\n",
        "print(f'Rozmiar obrazów wejściowych: {images.shape}')\n",
        "print(f'Rozmiar przefiltrowanych obrazów: {images_filtered.shape}')"
      ],
      "execution_count": null,
      "outputs": [
        {
          "output_type": "stream",
          "text": [
            "Rozmiar obrazów wejściowych: (1, 128, 128, 3)\n",
            "Rozmiar przefiltrowanych obrazów: (1, 128, 128, 10)\n"
          ],
          "name": "stdout"
        }
      ]
    },
    {
      "cell_type": "markdown",
      "metadata": {
        "id": "E52fORay7sa0"
      },
      "source": [
        "**W ten sposób, każdy z pikseli opisaliśmy N cechami.**\n",
        "\n",
        "Podobnymi operacjami są operacjie **poolingu**, czyli operacji które nie zawierają zmiennych uczących się, np. wybranie największej/najmniejszej/średniej/mediany wartości z danego okna."
      ]
    },
    {
      "cell_type": "code",
      "metadata": {
        "colab": {
          "base_uri": "https://localhost:8080/"
        },
        "id": "BCtyYQZw8Fkt",
        "outputId": "590283d7-7136-4cf3-f6cf-f86db680c440"
      },
      "source": [
        "f_max = tf.keras.layers.MaxPooling2D((2, 2), 2, 'same')\n",
        "f_ave = tf.keras.layers.AveragePooling2D((2, 2), 2, 'same')\n",
        "\n",
        "images_max = f_max(images_filtered)\n",
        "images_ave = f_ave(images_filtered)\n",
        "\n",
        "print(f'Rozmiar obrazów po max poolingu: {images_max.shape}')\n",
        "print(f'Rozmiar obrazów po average poolingu: {images_ave.shape}')"
      ],
      "execution_count": null,
      "outputs": [
        {
          "output_type": "stream",
          "text": [
            "Rozmiar obrazów po max poolingu: (1, 64, 64, 10)\n",
            "Rozmiar obrazów po average poolingu: (1, 64, 64, 10)\n"
          ],
          "name": "stdout"
        }
      ]
    },
    {
      "cell_type": "markdown",
      "metadata": {
        "id": "RKuI8Wtn8y96"
      },
      "source": [
        "W powyższym przykładzie zostosowane zostało przesunięcie z krokiem równym 2 (stąd rozmiar wynikowy jest 2-krotnie mniejszy). \n",
        "\n",
        "Ostatnim przykładem podstawowej operacji w TensorFlow jest funkcja wykonująca sekwencję operacji przekazując między sobą wyniki.\n",
        "\n",
        "W ten sposób, można znacznie uprościć swój model przetwarzania, pod warunkiem, że wszelkie warstwy i pod-modele zaimplementowane będą w Keras API."
      ]
    },
    {
      "cell_type": "code",
      "metadata": {
        "id": "ooZ-AGp09Wh4"
      },
      "source": [
        "model = tf.keras.Sequential([\n",
        "  tf.keras.layers.Conv2D(8, (3, 3), 2, 'same'),\n",
        "  tf.keras.layers.Activation('relu'),\n",
        "  tf.keras.layers.Conv2D(16, (3, 3), 2, 'same'),\n",
        "  tf.keras.layers.Activation('relu'),\n",
        "  tf.keras.layers.Conv2D(32, (3, 3), 2, 'same'),\n",
        "  tf.keras.layers.Activation('relu'),\n",
        "  tf.keras.layers.Flatten(),\n",
        "  tf.keras.layers.Dense(10)\n",
        "])"
      ],
      "execution_count": null,
      "outputs": []
    },
    {
      "cell_type": "code",
      "metadata": {
        "colab": {
          "base_uri": "https://localhost:8080/"
        },
        "id": "ZiA0x2i3_AZf",
        "outputId": "3fccd19a-7d14-4b9a-e492-a7d787e3cb17"
      },
      "source": [
        "images = tf.ones([1, 128, 128, 3], tf.float32)\n",
        "y = model(images)\n",
        "\n",
        "print(f'Rozmiar danych wejściowych: {images.shape}')\n",
        "print(f'Rozmiar danych wyjściowych: {y.shape}')"
      ],
      "execution_count": null,
      "outputs": [
        {
          "output_type": "stream",
          "text": [
            "Rozmiar danych wejściowych: (1, 128, 128, 3)\n",
            "Rozmiar danych wyjściowych: (1, 10)\n"
          ],
          "name": "stdout"
        }
      ]
    },
    {
      "cell_type": "markdown",
      "metadata": {
        "id": "XT-gk_ST9Bq9"
      },
      "source": [
        "**W powyższym przykładzie każdy obraz opisaliśmy jako 10 wartości.**"
      ]
    },
    {
      "cell_type": "markdown",
      "metadata": {
        "id": "L846W54vl2HZ"
      },
      "source": [
        "## Proces uczenia"
      ]
    },
    {
      "cell_type": "markdown",
      "metadata": {
        "id": "88NHfn4EAd0e"
      },
      "source": [
        "### Przygotowanie danych wejściowych"
      ]
    },
    {
      "cell_type": "markdown",
      "metadata": {
        "id": "i2O6uVokAowp"
      },
      "source": [
        "Jako dane wejściowe pobieramy obrazy pochodzące ze zbioru MNIST. Jeśli to możliwe najlepszym rozwiązaniem jest wykorzystanie **TensorFlow Dataset API** do wczytania i preprocessingu danych.\n",
        "\n",
        "Poniższy przykład wczytuje najpierw dane do postaci tablic NumPy, następnie transformuje je do postaci potoku danych (**tf.data.Dataset.from_tensor_slices**), który jest modyfikowany według architektury strumieniowej:\n",
        "- mieszanie danych (tak aby kolejność danych była losowa),\n",
        "- grupowanie (aby przyspieszyć przetwarzanie danych),\n",
        "- wstępne pobieranie (aby w czasie bezczynności potoku mógł wcześniej pobrać dane o które dopiero będziemy pytać w przyszłości)"
      ]
    },
    {
      "cell_type": "code",
      "metadata": {
        "id": "4ga5w3kCAmrf"
      },
      "source": [
        "def preprocess(image, label):\n",
        "  return tf.cast(image, tf.float32)[..., tf.newaxis], label\n",
        "\n",
        "def mnist(batch_size=16):\n",
        "    train_ds, val_ds = tf.keras.datasets.mnist.load_data()\n",
        "\n",
        "    train_ds = tf.data.Dataset.from_tensor_slices(train_ds) \\\n",
        "        .map(preprocess, num_parallel_calls=8) \\\n",
        "        .shuffle(1024) \\\n",
        "        .batch(batch_size) \\\n",
        "        .prefetch(8)\n",
        "\n",
        "    val_ds = tf.data.Dataset.from_tensor_slices(val_ds) \\\n",
        "    .map(preprocess, num_parallel_calls=8) \\\n",
        "        .shuffle(1024) \\\n",
        "        .batch(batch_size) \\\n",
        "        .prefetch(8)\n",
        "\n",
        "    return train_ds, val_ds"
      ],
      "execution_count": null,
      "outputs": []
    },
    {
      "cell_type": "markdown",
      "metadata": {
        "id": "gv0JB85ABolW"
      },
      "source": [
        "Dane składają się z listy par: obraz, klasa przyporządkowana do obrazu."
      ]
    },
    {
      "cell_type": "code",
      "metadata": {
        "colab": {
          "base_uri": "https://localhost:8080/"
        },
        "id": "P6W7GkKgBYg6",
        "outputId": "77ab7a83-5d9e-4265-a72b-0da06f313286"
      },
      "source": [
        "train_ds, val_ds = mnist(128)\n",
        "\n",
        "first_train_batch = next(iter(train_ds))\n",
        "images, labels = first_train_batch\n",
        "\n",
        "print(images.shape, labels.shape)"
      ],
      "execution_count": null,
      "outputs": [
        {
          "output_type": "stream",
          "text": [
            "(128, 28, 28, 1) (128,)\n"
          ],
          "name": "stdout"
        }
      ]
    },
    {
      "cell_type": "code",
      "metadata": {
        "colab": {
          "base_uri": "https://localhost:8080/",
          "height": 129
        },
        "id": "uJbS2QgUBwro",
        "outputId": "eead58c0-52d4-4549-df23-7fbdb9e579f0"
      },
      "source": [
        "imshow(images.numpy()[0])\n",
        "imshow(images.numpy()[1])\n",
        "imshow(images.numpy()[2])\n",
        "imshow(images.numpy()[3])"
      ],
      "execution_count": null,
      "outputs": [
        {
          "output_type": "display_data",
          "data": {
            "image/png": "[encoded data removed]",
            "text/plain": [
              "<PIL.Image.Image image mode=RGB size=28x28 at 0x7F13B745F750>"
            ]
          },
          "metadata": {
            "tags": []
          }
        },
        {
          "output_type": "display_data",
          "data": {
            "image/png": "[encoded data removed]",
            "text/plain": [
              "<PIL.Image.Image image mode=RGB size=28x28 at 0x7F13B745F950>"
            ]
          },
          "metadata": {
            "tags": []
          }
        },
        {
          "output_type": "display_data",
          "data": {
            "image/png": "[encoded data removed]",
            "text/plain": [
              "<PIL.Image.Image image mode=RGB size=28x28 at 0x7F13B745FAD0>"
            ]
          },
          "metadata": {
            "tags": []
          }
        },
        {
          "output_type": "display_data",
          "data": {
            "image/png": "[encoded data removed]",
            "text/plain": [
              "<PIL.Image.Image image mode=RGB size=28x28 at 0x7F13B745B750>"
            ]
          },
          "metadata": {
            "tags": []
          }
        }
      ]
    },
    {
      "cell_type": "markdown",
      "metadata": {
        "id": "2j7zBoaJAh2t"
      },
      "source": [
        "### Przygotowanie modelu przetwarzanie"
      ]
    },
    {
      "cell_type": "code",
      "metadata": {
        "id": "g5oaN8RCCWqL"
      },
      "source": [
        "model = tf.keras.Sequential([\n",
        "  tf.keras.layers.Conv2D(8, (3, 3), 2, 'same'),\n",
        "  tf.keras.layers.Activation('relu'),\n",
        "  tf.keras.layers.Conv2D(16, (3, 3), 2, 'same'),\n",
        "  tf.keras.layers.Activation('relu'),\n",
        "  tf.keras.layers.Conv2D(32, (3, 3), 2, 'same'),\n",
        "  tf.keras.layers.Activation('relu'),\n",
        "  tf.keras.layers.Flatten(),\n",
        "  tf.keras.layers.Dense(10)\n",
        "])"
      ],
      "execution_count": null,
      "outputs": []
    },
    {
      "cell_type": "code",
      "metadata": {
        "colab": {
          "base_uri": "https://localhost:8080/"
        },
        "id": "NWDx8VmtCZKq",
        "outputId": "3d06e3e4-4736-4985-902f-205a66f57b7d"
      },
      "source": [
        "y = model(images)\n",
        "\n",
        "print(f'Rozmiar danych wejściowych: {images.shape}')\n",
        "print(f'Rozmiar danych wyjściowych: {y.shape}')"
      ],
      "execution_count": null,
      "outputs": [
        {
          "output_type": "stream",
          "text": [
            "Rozmiar danych wejściowych: (128, 28, 28, 1)\n",
            "Rozmiar danych wyjściowych: (128, 10)\n"
          ],
          "name": "stdout"
        }
      ]
    },
    {
      "cell_type": "markdown",
      "metadata": {
        "id": "-Uye2FmNCyuB"
      },
      "source": [
        "### (Uproszczona) definicja sposobu uczenia"
      ]
    },
    {
      "cell_type": "code",
      "metadata": {
        "id": "Pg6k3kVWC31T"
      },
      "source": [
        "model.compile(optimizer='Adam', loss=tf.keras.losses.SparseCategoricalCrossentropy(True), metrics=['accuracy'])"
      ],
      "execution_count": null,
      "outputs": []
    },
    {
      "cell_type": "markdown",
      "metadata": {
        "id": "jBsAl97pDLar"
      },
      "source": [
        "### Wywołanie pętli uczenia modelu"
      ]
    },
    {
      "cell_type": "code",
      "metadata": {
        "colab": {
          "base_uri": "https://localhost:8080/"
        },
        "id": "vitHWCtFDOBh",
        "outputId": "092369df-aa12-4716-82cb-5fbe36af2e79"
      },
      "source": [
        "model.fit(train_ds, epochs=3)\n",
        "model.evaluate(val_ds)"
      ],
      "execution_count": null,
      "outputs": [
        {
          "output_type": "stream",
          "text": [
            "Epoch 1/10\n",
            "469/469 [==============================] - 9s 19ms/step - loss: 1.2912 - accuracy: 0.7279\n",
            "Epoch 2/10\n",
            "469/469 [==============================] - 9s 18ms/step - loss: 0.1572 - accuracy: 0.9523\n",
            "Epoch 3/10\n",
            "469/469 [==============================] - 9s 18ms/step - loss: 0.1007 - accuracy: 0.9690\n",
            "Epoch 4/10\n",
            "469/469 [==============================] - 9s 19ms/step - loss: 0.0743 - accuracy: 0.9779\n",
            "Epoch 5/10\n",
            "469/469 [==============================] - 9s 19ms/step - loss: 0.0597 - accuracy: 0.9823\n",
            "Epoch 6/10\n",
            "469/469 [==============================] - 9s 19ms/step - loss: 0.0541 - accuracy: 0.9844\n",
            "Epoch 7/10\n",
            "469/469 [==============================] - 9s 19ms/step - loss: 0.0464 - accuracy: 0.9858\n",
            "Epoch 8/10\n",
            "469/469 [==============================] - 9s 19ms/step - loss: 0.0401 - accuracy: 0.9871\n",
            "Epoch 9/10\n",
            "469/469 [==============================] - 9s 20ms/step - loss: 0.0361 - accuracy: 0.9886\n",
            "Epoch 10/10\n",
            "469/469 [==============================] - 9s 20ms/step - loss: 0.0338 - accuracy: 0.9889\n",
            "79/79 [==============================] - 1s 10ms/step - loss: 0.0706 - accuracy: 0.9807\n"
          ],
          "name": "stdout"
        },
        {
          "output_type": "execute_result",
          "data": {
            "text/plain": [
              "[0.07058446854352951, 0.9807000160217285]"
            ]
          },
          "metadata": {
            "tags": []
          },
          "execution_count": 94
        }
      ]
    },
    {
      "cell_type": "code",
      "metadata": {
        "colab": {
          "base_uri": "https://localhost:8080/",
          "height": 299
        },
        "id": "QwTiXVA2EXSF",
        "outputId": "df1204ce-8594-4f30-b029-ae54da2ab45a"
      },
      "source": [
        "images, labels = next(iter(val_ds))\n",
        "\n",
        "predictions = model.predict(images)\n",
        "\n",
        "print(labels)\n",
        "print(tf.argmax(predictions, -1))\n",
        "\n",
        "imshow(images.numpy()[0])\n",
        "imshow(images.numpy()[1])\n",
        "imshow(images.numpy()[2])\n",
        "imshow(images.numpy()[3])"
      ],
      "execution_count": null,
      "outputs": [
        {
          "output_type": "stream",
          "text": [
            "tf.Tensor(\n",
            "[2 8 8 8 3 5 0 4 1 2 8 7 1 3 7 4 3 3 2 2 4 4 8 6 2 0 9 7 3 9 2 4 6 4 4 3 7\n",
            " 5 3 6 9 9 6 5 5 6 9 7 7 3 1 9 7 9 5 8 9 1 7 5 5 6 8 9 4 7 4 1 1 1 0 6 9 9\n",
            " 0 3 9 4 1 9 9 4 4 6 4 5 2 0 3 0 4 6 5 3 5 4 0 7 9 6 7 5 6 4 1 6 0 0 7 9 5\n",
            " 8 1 5 1 2 1 1 4 6 2 1 8 0 5 9 1 0], shape=(128,), dtype=uint8)\n",
            "tf.Tensor(\n",
            "[2 8 8 8 3 5 0 4 1 2 8 7 1 3 7 4 3 3 2 2 4 4 8 6 2 0 9 7 3 9 2 4 6 4 4 3 7\n",
            " 5 3 6 9 9 6 5 5 6 9 7 7 3 1 9 7 9 5 9 9 1 7 5 5 6 8 9 4 7 4 1 1 1 0 6 9 9\n",
            " 0 3 9 4 1 9 9 4 4 6 4 5 2 0 3 0 4 6 5 3 5 4 0 7 9 6 7 5 6 4 1 6 0 0 7 9 5\n",
            " 8 1 5 1 2 1 1 4 6 2 1 8 0 5 3 1 0], shape=(128,), dtype=int64)\n"
          ],
          "name": "stdout"
        },
        {
          "output_type": "display_data",
          "data": {
            "image/png": "[encoded data removed]",
            "text/plain": [
              "<PIL.Image.Image image mode=RGB size=28x28 at 0x7F13B5925590>"
            ]
          },
          "metadata": {
            "tags": []
          }
        },
        {
          "output_type": "display_data",
          "data": {
            "image/png": "[encoded data removed]",
            "text/plain": [
              "<PIL.Image.Image image mode=RGB size=28x28 at 0x7F13B6172A10>"
            ]
          },
          "metadata": {
            "tags": []
          }
        },
        {
          "output_type": "display_data",
          "data": {
            "image/png": "[encoded data removed]",
            "text/plain": [
              "<PIL.Image.Image image mode=RGB size=28x28 at 0x7F13B593B590>"
            ]
          },
          "metadata": {
            "tags": []
          }
        },
        {
          "output_type": "display_data",
          "data": {
            "image/png": "[encoded data removed]",
            "text/plain": [
              "<PIL.Image.Image image mode=RGB size=28x28 at 0x7F13B593BED0>"
            ]
          },
          "metadata": {
            "tags": []
          }
        }
      ]
    }
  ]
}