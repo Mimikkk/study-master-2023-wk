{
  "nbformat": 4,
  "nbformat_minor": 0,
  "metadata": {
    "colab": {
      "provenance": []
    },
    "kernelspec": {
      "name": "python3",
      "display_name": "Python 3"
    },
    "language_info": {
      "name": "python"
    }
  },
  "cells": [
    {
      "cell_type": "code",
      "execution_count": 98,
      "metadata": {
        "id": "3nN-wd96Fyx0",
        "outputId": "927de03c-80b8-4dce-9937-3832cce49a6e",
        "colab": {
          "base_uri": "https://localhost:8080/"
        }
      },
      "outputs": [
        {
          "output_type": "stream",
          "name": "stdout",
          "text": [
            "Drive already mounted at /content/drive; to attempt to forcibly remount, call drive.mount(\"/content/drive\", force_remount=True).\n"
          ]
        }
      ],
      "source": [
        "%matplotlib inline\n",
        "import matplotlib.pyplot as plt\n",
        "import numpy as np\n",
        "import cv2\n",
        "import PIL\n",
        "import os\n",
        "import sys\n",
        "import glob\n",
        "import random\n",
        "\n",
        "from pprint import pprint\n",
        "from ipywidgets import Video\n",
        "\n",
        "from PIL import Image\n",
        "from PIL.ExifTags import TAGS\n",
        "\n",
        "from google.colab import drive\n",
        "drive.mount('/content/drive')"
      ]
    },
    {
      "cell_type": "code",
      "source": [
        "def imshow(a):\n",
        "  a = a.clip(0, 255).astype('uint8')\n",
        "  if a.ndim == 3:\n",
        "    if a.shape[2] == 4:\n",
        "      a = cv2.cvtColor(a, cv2.COLOR_BGRA2RGBA)\n",
        "    else:\n",
        "      a = cv2.cvtColor(a, cv2.COLOR_BGR2RGB)\n",
        "  display(PIL.Image.fromarray(a))"
      ],
      "metadata": {
        "id": "s1SODxiCHu4P"
      },
      "execution_count": 99,
      "outputs": []
    },
    {
      "cell_type": "code",
      "source": [
        "!mkdir data\n",
        "\n",
        "from pydrive.auth import GoogleAuth\n",
        "from google.colab import drive\n",
        "from pydrive.drive import GoogleDrive\n",
        "from google.colab import auth\n",
        "from oauth2client.client import GoogleCredentials\n",
        "\n",
        "auth.authenticate_user()\n",
        "gauth = GoogleAuth()\n",
        "gauth.credentials = GoogleCredentials.get_application_default()\n",
        "drive = GoogleDrive(gauth)\n",
        "drive.CreateFile({\"id\": \"1APJsddWLOTyYxlgK-nHNK9o6AU_B-NgY\"}).GetContentFile('./data/test.mp4')"
      ],
      "metadata": {
        "colab": {
          "base_uri": "https://localhost:8080/"
        },
        "id": "L1q5bhPQ2bBK",
        "outputId": "af94aaa2-cef6-4056-9379-0758de13d56c"
      },
      "execution_count": 100,
      "outputs": [
        {
          "output_type": "stream",
          "name": "stdout",
          "text": [
            "mkdir: cannot create directory ‘data’: File exists\n"
          ]
        }
      ]
    },
    {
      "cell_type": "code",
      "source": [
        "# 1 - poszukajmy wgl stołu XD\n",
        "video = cv2.VideoCapture(\"./data/test.mp4\")\n",
        "\n",
        "video_width = int(video.get(3))\n",
        "video_height = int(video.get(4))\n",
        "video_fps = video.get(cv2.CAP_PROP_FPS)\n",
        "\n",
        "if not video.isOpened():\n",
        "    print(\"Error while opened the film.\")\n",
        "\n",
        "video_track = cv2.VideoWriter(\"./data/result.avi\",  cv2.VideoWriter_fourcc(*'DIVX'), video_fps, (video_width, video_height))\n",
        "for _ in range(200):\n",
        "    ret, frame = video.read()\n",
        "\n",
        "    if ret:\n",
        "        dst = cv2.Canny(frame, 50, 200, None, 3)\n",
        "        table_borders = cv2.HoughLinesP(dst, 1, np.pi / 180, 150, None, 400, 50)\n",
        "\n",
        "        for x_begin, y_begin, x_end, y_end in table_borders[:, 0, :]:\n",
        "            cv2.line(frame, (x_begin, y_begin), (x_end, y_end), (0, 0, 255), 3)\n",
        "\n",
        "        video_track.write(frame)\n",
        "    else:\n",
        "        break\n",
        "\n",
        "video_track.release()\n",
        "!ffmpeg -hide_banner -loglevel error -i ./data/result.avi -y ./data/result.mp4\n",
        "Video.from_file(\"./data/result.mp4\")"
      ],
      "metadata": {
        "id": "q_WGO5x7H7oa"
      },
      "execution_count": null,
      "outputs": []
    },
    {
      "cell_type": "code",
      "source": [
        "# 2 - wyciecie stołu na sztywno bo czemu nie\n",
        "video = cv2.VideoCapture(\"./data/test.mp4\")\n",
        "\n",
        "video_width = int(video.get(3))\n",
        "video_height = int(video.get(4))\n",
        "video_fps = video.get(cv2.CAP_PROP_FPS)\n",
        "\n",
        "if not video.isOpened():\n",
        "    print(\"Error while opened the film.\")\n",
        "\n",
        "video_track = cv2.VideoWriter(\"./data/result-balls.avi\",  cv2.VideoWriter_fourcc(*'DIVX'), video_fps, (video_width, video_height))\n",
        "for _ in range(200):\n",
        "    ret, frame = video.read()\n",
        "\n",
        "    HA, HB = (320, 195), (970, 195)\n",
        "    HC, HD = (200, 630), (1100, 630)\n",
        "\n",
        "    if ret:\n",
        "        H, W = frame.shape[:2]\n",
        "        mask = np.zeros((H, W), dtype=np.uint8)\n",
        "        \n",
        "        cv2.fillConvexPoly(mask, np.array([HA, HC, HD, HB]), 1)\n",
        "\n",
        "        video_track.write(frame * np.dstack([mask]*3))\n",
        "    else:\n",
        "        break\n",
        "\n",
        "video_track.release()\n",
        "!ffmpeg -hide_banner -loglevel error -i ./data/result-balls.avi -y ./data/result-balls.mp4\n",
        "Video.from_file(\"./data/result-balls.mp4\")"
      ],
      "metadata": {
        "id": "aci6xBxSjAaW"
      },
      "execution_count": null,
      "outputs": []
    },
    {
      "cell_type": "code",
      "source": [
        "# 3 - detekcja piły ze stołem ustawionym na razie na sztywno\n",
        "video = cv2.VideoCapture(\"./data/result-balls.mp4\")\n",
        "\n",
        "video_width = int(video.get(3))\n",
        "video_height = int(video.get(4))\n",
        "video_fps = video.get(cv2.CAP_PROP_FPS)\n",
        "\n",
        "if not video.isOpened():\n",
        "    print(\"Error while opened the film.\")\n",
        "\n",
        "video_track = cv2.VideoWriter(\"./data/result-balls-detected.avi\",  cv2.VideoWriter_fourcc(*'DIVX'), video_fps, (video_width, video_height))\n",
        "for _ in range(200):\n",
        "    ret, frame = video.read()\n",
        "\n",
        "    if ret:\n",
        "      frame = cv2.GaussianBlur(frame, (3, 3), 0)\n",
        "      frame_gray = cv2.cvtColor(frame, cv2.COLOR_BGR2GRAY)\n",
        "\n",
        "      circles = cv2.HoughCircles(frame_gray, cv2.HOUGH_GRADIENT, 1, 5, param1=60, param2=15, minRadius=0, maxRadius=20)\n",
        "      circles = np.uint16(np.around(circles))\n",
        "      for i in circles[0, :]:\n",
        "          cv2.circle(frame,(i[0],i[1]),i[2],(0,255,0),2)\n",
        "          cv2.circle(frame,(i[0],i[1]),2,(0,0,255),3)\n",
        "      video_track.write(frame)\n",
        "    else:\n",
        "        break\n",
        "\n",
        "video_track.release()\n",
        "!ffmpeg -hide_banner -loglevel error -i ./data/result-balls-detected.avi -y ./data/result-balls-detected.mp4\n",
        "Video.from_file(\"./data/result-balls-detected.mp4\")"
      ],
      "metadata": {
        "id": "d7kZwnXLp7ge"
      },
      "execution_count": null,
      "outputs": []
    }
  ]
}