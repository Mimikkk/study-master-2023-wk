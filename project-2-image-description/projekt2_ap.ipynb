{
  "nbformat": 4,
  "nbformat_minor": 0,
  "metadata": {
    "colab": {
      "provenance": []
    },
    "kernelspec": {
      "display_name": "Python 3",
      "name": "python3"
    },
    "widgets": {
      "application/vnd.jupyter.widget-state+json": {
        "fceae97d5f33496a82f347e0f721ab9b": {
          "model_module": "@jupyter-widgets/controls",
          "model_name": "VideoModel",
          "model_module_version": "1.5.0",
          "state": {
            "_dom_classes": [],
            "_model_module": "@jupyter-widgets/controls",
            "_model_module_version": "1.5.0",
            "_model_name": "VideoModel",
            "_view_count": null,
            "_view_module": "@jupyter-widgets/controls",
            "_view_module_version": "1.5.0",
            "_view_name": "VideoView",
            "autoplay": true,
            "controls": true,
            "format": "mp4",
            "height": "",
            "layout": "IPY_MODEL_a773b6b0ba84434e97130c19e9c0fe81",
            "loop": true,
            "width": ""
          }
        },
        "a773b6b0ba84434e97130c19e9c0fe81": {
          "model_module": "@jupyter-widgets/base",
          "model_name": "LayoutModel",
          "model_module_version": "1.2.0",
          "state": {
            "_model_module": "@jupyter-widgets/base",
            "_model_module_version": "1.2.0",
            "_model_name": "LayoutModel",
            "_view_count": null,
            "_view_module": "@jupyter-widgets/base",
            "_view_module_version": "1.2.0",
            "_view_name": "LayoutView",
            "align_content": null,
            "align_items": null,
            "align_self": null,
            "border": null,
            "bottom": null,
            "display": null,
            "flex": null,
            "flex_flow": null,
            "grid_area": null,
            "grid_auto_columns": null,
            "grid_auto_flow": null,
            "grid_auto_rows": null,
            "grid_column": null,
            "grid_gap": null,
            "grid_row": null,
            "grid_template_areas": null,
            "grid_template_columns": null,
            "grid_template_rows": null,
            "height": null,
            "justify_content": null,
            "justify_items": null,
            "left": null,
            "margin": null,
            "max_height": null,
            "max_width": null,
            "min_height": null,
            "min_width": null,
            "object_fit": null,
            "object_position": null,
            "order": null,
            "overflow": null,
            "overflow_x": null,
            "overflow_y": null,
            "padding": null,
            "right": null,
            "top": null,
            "visibility": null,
            "width": null
          }
        }
      }
    }
  },
  "cells": [
    {
      "cell_type": "code",
      "source": [
        "%matplotlib inline\n",
        "import matplotlib.pyplot as plt\n",
        "import numpy as np\n",
        "import cv2\n",
        "import PIL\n",
        "import os\n",
        "import sys\n",
        "import glob\n",
        "import random\n",
        "\n",
        "from pprint import pprint\n",
        "from ipywidgets import Video\n",
        "\n",
        "from PIL import Image\n",
        "from PIL.ExifTags import TAGS\n",
        "\n",
        "from sklearn.cluster import KMeans"
      ],
      "metadata": {
        "id": "MJ1uRTyZrvUn"
      },
      "execution_count": 2,
      "outputs": []
    },
    {
      "cell_type": "code",
      "source": [
        "!pip install --upgrade --no-cache-dir gdown\n",
        "# dysk Ani\n",
        "!gdown https://drive.google.com/uc?id=1OjFFysQD-MbhiTzfesrvXqkIg6oNRIyK&confirm=t\n",
        "# dysk Agi\n",
        "!gdown https://drive.google.com/uc?id=1APJsddWLOTyYxlgK-nHNK9o6AU_B-NgY&confirm=t"
      ],
      "metadata": {
        "id": "XZi6OmuArwqf",
        "colab": {
          "base_uri": "https://localhost:8080/"
        },
        "outputId": "d7735274-6608-4484-b755-c410871cb86c"
      },
      "execution_count": 3,
      "outputs": [
        {
          "output_type": "stream",
          "name": "stdout",
          "text": [
            "Looking in indexes: https://pypi.org/simple, https://us-python.pkg.dev/colab-wheels/public/simple/\n",
            "Requirement already satisfied: gdown in /usr/local/lib/python3.10/dist-packages (4.7.1)\n",
            "Requirement already satisfied: filelock in /usr/local/lib/python3.10/dist-packages (from gdown) (3.12.0)\n",
            "Requirement already satisfied: requests[socks] in /usr/local/lib/python3.10/dist-packages (from gdown) (2.27.1)\n",
            "Requirement already satisfied: six in /usr/local/lib/python3.10/dist-packages (from gdown) (1.16.0)\n",
            "Requirement already satisfied: tqdm in /usr/local/lib/python3.10/dist-packages (from gdown) (4.65.0)\n",
            "Requirement already satisfied: beautifulsoup4 in /usr/local/lib/python3.10/dist-packages (from gdown) (4.11.2)\n",
            "Requirement already satisfied: soupsieve>1.2 in /usr/local/lib/python3.10/dist-packages (from beautifulsoup4->gdown) (2.4.1)\n",
            "Requirement already satisfied: urllib3<1.27,>=1.21.1 in /usr/local/lib/python3.10/dist-packages (from requests[socks]->gdown) (1.26.15)\n",
            "Requirement already satisfied: certifi>=2017.4.17 in /usr/local/lib/python3.10/dist-packages (from requests[socks]->gdown) (2022.12.7)\n",
            "Requirement already satisfied: charset-normalizer~=2.0.0 in /usr/local/lib/python3.10/dist-packages (from requests[socks]->gdown) (2.0.12)\n",
            "Requirement already satisfied: idna<4,>=2.5 in /usr/local/lib/python3.10/dist-packages (from requests[socks]->gdown) (3.4)\n",
            "Requirement already satisfied: PySocks!=1.5.7,>=1.5.6 in /usr/local/lib/python3.10/dist-packages (from requests[socks]->gdown) (1.7.1)\n",
            "Downloading...\n",
            "From: https://drive.google.com/uc?id=1OjFFysQD-MbhiTzfesrvXqkIg6oNRIyK\n",
            "To: /content/roonie_snooker.mp4\n",
            "100% 6.24M/6.24M [00:00<00:00, 169MB/s]\n",
            "Downloading...\n",
            "From: https://drive.google.com/uc?id=1APJsddWLOTyYxlgK-nHNK9o6AU_B-NgY\n",
            "To: /content/test.mp4\n",
            "100% 3.30M/3.30M [00:00<00:00, 210MB/s]\n"
          ]
        }
      ]
    },
    {
      "cell_type": "code",
      "source": [
        "def imshow(a):\n",
        "  a = a.clip(0, 255).astype('uint8')\n",
        "  if a.ndim == 3:\n",
        "    if a.shape[2] == 4:\n",
        "      a = cv2.cvtColor(a, cv2.COLOR_BGRA2RGBA)\n",
        "    else:\n",
        "      a = cv2.cvtColor(a, cv2.COLOR_BGR2RGB)\n",
        "  display(PIL.Image.fromarray(a))"
      ],
      "metadata": {
        "id": "SdHoiK7lr5_a"
      },
      "execution_count": 4,
      "outputs": []
    },
    {
      "cell_type": "code",
      "source": [
        "def open_video(path):\n",
        "  video = cv2.VideoCapture(path)\n",
        "  if not video.isOpened():\n",
        "      print(\"[ERROR]: Could not open video from the given path.\")\n",
        "\n",
        "  video_width = int(video.get(3))\n",
        "  video_height = int(video.get(4))\n",
        "  video_fps = video.get(cv2.CAP_PROP_FPS)\n",
        "  print(f\"Video: width={video_width} height={video_height} fps={video_fps}\")\n",
        "\n",
        "  return video, video_width, video_height, video_fps"
      ],
      "metadata": {
        "id": "wI5XdSokr7is"
      },
      "execution_count": 5,
      "outputs": []
    },
    {
      "cell_type": "code",
      "source": [
        "def detect_edges(frame):\n",
        "  gray_f = cv2.cvtColor(frame, cv2.COLOR_BGR2GRAY)\n",
        "  threshold_f = cv2.adaptiveThreshold(gray_f, 255, cv2.ADAPTIVE_THRESH_MEAN_C, cv2.THRESH_BINARY, 19, -12)\n",
        "  lines = cv2.HoughLinesP(threshold_f, rho=2, theta=np.pi/20, threshold=600, minLineLength=400, maxLineGap=50)\n",
        "  return lines\n",
        "\n",
        "\n",
        "def detect_edge_intersection(lines, tolerance=0.1):\n",
        "  def line_intersection(line1, line2):\n",
        "    xdiff = (line1[0][0] - line1[1][0], line2[0][0] - line2[1][0])\n",
        "    ydiff = (line1[0][1] - line1[1][1], line2[0][1] - line2[1][1])\n",
        "\n",
        "    def det(a, b):\n",
        "      return a[0] * b[1] - a[1] * b[0]\n",
        "\n",
        "    div = det(xdiff, ydiff)\n",
        "    if div == 0:\n",
        "      raise Exception('Determinant equals zero.')\n",
        "\n",
        "    d = (det(*line1), det(*line2))\n",
        "    x = int(det(d, xdiff) / div)\n",
        "    y = int(det(d, ydiff) / div)\n",
        "    return x, y\n",
        "  \n",
        "  intersection_points = []\n",
        "  for line1 in lines:\n",
        "    x1, y1, x2, y2 = line1[0]\n",
        "    for line2 in lines:\n",
        "      x3,y3,x4,y4 = line2[0]\n",
        "      m1 = abs((y2 - y1) / (x2 - x1))\n",
        "      m2 = abs((y4 - y3) / (x4 - x3))\n",
        "      if abs(m1 - m2) > tolerance:\n",
        "        intersection_point = line_intersection(((x1, y1), (x2, y2)), ((x3, y3), (x4, y4)))\n",
        "        intersection_points.append(intersection_point)\n",
        "  return intersection_points\n",
        "\n",
        "\n",
        "def detect_table_corners(intersection_points, n_clusters=4):\n",
        "  # remove intersection points from the top of the frame\n",
        "  for intersection_point in intersection_points:\n",
        "    _, y = intersection_point\n",
        "    if y < 10:\n",
        "      intersection_points.remove(intersection_point)\n",
        "\n",
        "  # perform k-means to detect table corners\n",
        "  intersection_points = np.asarray(intersection_points).astype(np.float32)\n",
        "  model = KMeans(n_clusters=n_clusters, n_init=10)\n",
        "  model.fit(intersection_points)\n",
        "  segments = model.predict(intersection_points)\n",
        "  corners = np.stack([intersection_points[segments==i].mean(0) for i in range(n_clusters)], 0)\n",
        "\n",
        "  return corners.astype(int)\n",
        "\n",
        "\n",
        "def detect_table_borders(frame, tolerance=2):\n",
        "  table_borders = []\n",
        "  # detect edges\n",
        "  lines = detect_edges(frame)\n",
        "  # detect edge intersection\n",
        "  intersection_points = detect_edge_intersection(lines)\n",
        "  # detect table corners\n",
        "  corners = detect_table_corners(intersection_points)\n",
        "  for corner1 in corners:\n",
        "    for corner2 in corners:\n",
        "      if any(corner1 != corner2) and (abs(corner1[0] - corner2[0]) < tolerance or abs(corner1[1] - corner2[1]) < tolerance):\n",
        "        table_borders.append((corner1, corner2))\n",
        "  return table_borders\n",
        "\n",
        "\n",
        "def draw_table_borders(video_track, table_borders):\n",
        "  for corner1, corner2 in table_borders:\n",
        "    video_track.write(cv2.line(frame, corner1, corner2, (255, 0, 0), 5))"
      ],
      "metadata": {
        "id": "PYhFg0r9r8_G"
      },
      "execution_count": 6,
      "outputs": []
    },
    {
      "cell_type": "code",
      "source": [
        "video, video_width, video_height, video_fps = open_video(\"./roonie_snooker.mp4\")\n",
        "\n",
        "video_track = cv2.VideoWriter('./roonie_snooker.avi', cv2.VideoWriter_fourcc(*'DIVX'), video_fps, (video_width, video_height))\n",
        "\n",
        "# setup\n",
        "video.set(cv2.CAP_PROP_POS_FRAMES, 0)\n",
        "ret, frame = video.read()\n",
        "\n",
        "# get table borders\n",
        "table_borders = detect_table_borders(frame) if ret else []"
      ],
      "metadata": {
        "colab": {
          "base_uri": "https://localhost:8080/"
        },
        "id": "cPQmwxuusgRX",
        "outputId": "5279d4a0-8b3a-439c-a047-446eddc74fcb"
      },
      "execution_count": 7,
      "outputs": [
        {
          "output_type": "stream",
          "name": "stdout",
          "text": [
            "Video: width=1280 height=720 fps=25.0\n"
          ]
        },
        {
          "output_type": "stream",
          "name": "stderr",
          "text": [
            "<ipython-input-6-73db79879d12>:31: RuntimeWarning: divide by zero encountered in int_scalars\n",
            "  m2 = abs((y4 - y3) / (x4 - x3))\n",
            "<ipython-input-6-73db79879d12>:30: RuntimeWarning: divide by zero encountered in int_scalars\n",
            "  m1 = abs((y2 - y1) / (x2 - x1))\n",
            "<ipython-input-6-73db79879d12>:32: RuntimeWarning: invalid value encountered in double_scalars\n",
            "  if abs(m1 - m2) > tolerance:\n"
          ]
        }
      ]
    },
    {
      "cell_type": "code",
      "source": [
        "# video loop\n",
        "video.set(cv2.CAP_PROP_POS_FRAMES, 0)\n",
        "for _ in range(100):\n",
        "    ret, frame = video.read()\n",
        "\n",
        "    if ret:\n",
        "      draw_table_borders(video_track, table_borders)\n",
        "    else:\n",
        "        break\n",
        "\n",
        "video_track.release()"
      ],
      "metadata": {
        "id": "6OZxV6BBr-8w"
      },
      "execution_count": 8,
      "outputs": []
    },
    {
      "cell_type": "code",
      "source": [
        "!ffmpeg -hide_banner -loglevel error -i roonie_snooker.avi -y roonie_snooker.mp4\n",
        "Video.from_file('./roonie_snooker.mp4')"
      ],
      "metadata": {
        "colab": {
          "base_uri": "https://localhost:8080/",
          "height": 745,
          "referenced_widgets": [
            "fceae97d5f33496a82f347e0f721ab9b",
            "a773b6b0ba84434e97130c19e9c0fe81"
          ]
        },
        "id": "uzSvTF5PsxFx",
        "outputId": "3873ec4a-1829-409e-aba0-d7f7fe1b2e91"
      },
      "execution_count": 9,
      "outputs": [
        {
          "output_type": "display_data",
          "data": {
            "text/plain": [
              "Video(value=b'\\x00\\x00\\x00 ftypisom\\x00\\x00\\x02\\x00isomiso2avc1mp41\\x00\\x00\\x00\\x08free\\x00\\n\\xe0)mdat\\x00\\x00…"
            ],
            "application/vnd.jupyter.widget-view+json": {
              "version_major": 2,
              "version_minor": 0,
              "model_id": "fceae97d5f33496a82f347e0f721ab9b"
            }
          },
          "metadata": {}
        }
      ]
    }
  ]
}