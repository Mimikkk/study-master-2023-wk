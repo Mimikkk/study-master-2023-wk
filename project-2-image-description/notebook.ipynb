{
 "cells": [
  {
   "cell_type": "markdown",
   "source": [
    "# [WK] Projekt 1 - Opis obrazu\n",
    "#### Autorzy: Agnieszka Klimek (145302), Anna Prałat (145395), Daniel Zdancewicz (145317)\n",
    "\n",
    "## Opis zadania\n",
    "Śledzenie gry w bilard.\n",
    "Dla filmów przedstawiających grę w bilard (dowolna odmiana) zaproponuj system:\n",
    "- Wykrywania bili\n",
    "- Śledzenia bili\n",
    "- Wykrywania zdarzeń na filmie\n",
    "Należy samodzielnie przygotować odpowiednie dane wejściowe.\n",
    "\n",
    "## Założenia\n",
    "Jako przyjętą reprezentację obrazu przyjęto filmy gry w snookera z perspektywy ptaka (bird view).\n",
    "Założono, że kamera jest nieruchoma, a stół do gry jest prostokątem. DOdatkowo założono, że\n",
    "kamera jest umieszczona nad środkiem stołu, a kąt nachylenia kamery jest równy 90 stopni.\n",
    "\n",
    "Jako zdarzenia, które są wykrywane na filmie:\n",
    "- Wbicie bili do łuzy\n",
    "- Zderzenie bili z drugą bilą\n",
    "\n",
    "\n",
    "## Technika wykrywania bil na obrazie\n",
    "\n",
    "1. Wczytanie obrazu\n",
    "2. Przekształcenie obrazu do skali szarości\n",
    "3. Zastosowanie filtru Gaussa\n",
    "4. Zastosowanie binaryzacji\n",
    "5. Zastosowanie operacji poprawnego wypełnienia dziur\n",
    "6. Rozpoznanie 6 masek (po jednej dla każdego rodzaju bili)\n",
    "7. Rozpoznanie konturów bili\n",
    "8. Zapis pozycji zawierających kontury w kolejnych klatkach filmu\n",
    "9. Zastosowanie prostych równań fizycznych na podstawie pozycji do wyznaczenia pozycji bili w kolejnych klatkach filmu\n",
    "10. Wykrywanie zdarzeń na podstawie momentum kuli\n"
   ],
   "metadata": {
    "collapsed": false
   }
  },
  {
   "cell_type": "markdown",
   "source": [
    "## Wczytanie filmu"
   ],
   "metadata": {
    "collapsed": false
   }
  },
  {
   "cell_type": "code",
   "execution_count": 1,
   "metadata": {
    "collapsed": true
   },
   "outputs": [],
   "source": [
    "import cv2\n",
    "\n",
    "match = cv2.VideoCapture('resources/matches/snooker.mp4')\n"
   ]
  }
 ],
 "metadata": {
  "kernelspec": {
   "display_name": "Python 3",
   "language": "python",
   "name": "python3"
  },
  "language_info": {
   "codemirror_mode": {
    "name": "ipython",
    "version": 2
   },
   "file_extension": ".py",
   "mimetype": "text/x-python",
   "name": "python",
   "nbconvert_exporter": "python",
   "pygments_lexer": "ipython2",
   "version": "2.7.6"
  }
 },
 "nbformat": 4,
 "nbformat_minor": 0
}
